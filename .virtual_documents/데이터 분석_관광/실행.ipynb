import pandas as pd


pd.read_csv("20250327102754_관광객 지역별 방문비율 CSV 다운로드.csv",encoding='utf-8-sig')


data = pd.read_csv("20250327102754_관광객 지역별 방문비율 CSV 다운로드.csv",encoding='utf-8-sig')


data.info()


import matplotlib.pyplot as plt


import seaborn as sns


plt.rc('font',family='D2Coding')



