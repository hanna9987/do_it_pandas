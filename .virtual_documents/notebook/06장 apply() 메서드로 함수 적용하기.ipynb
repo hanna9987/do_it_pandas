





def my_sq(x):
    return x ** 2


def avg_2(x, y):
    return (x + y) / 2


def avg_2(x, y):
    """두 숫자의 평균을 구하는 함수
    """
    return (x + y) / 2


my_calc_1 = my_sq(4)
print(my_calc_1)


my_calc_2 = avg_2(10, 20)
print(my_calc_2)








import pandas as pd

df = pd.DataFrame({"a": [10, 20, 30], 
                   "b": [20, 30, 40]})
print(df)


print(df['a'] ** 2)








print(type(df['a']))


print(type(df.iloc[0]))


sq = df['a'].apply(my_sq)
print(sq)





def my_exp(x, e):
    return x ** e


cubed = my_exp(2, 3)

print(cubed)


# my_exp(2)  # 오류


ex = df['a'].apply(my_exp, e=2)
print(ex)


ex = df['a'].apply(my_exp, e=3)
print(ex)





df = pd.DataFrame({"a": [10, 20, 30], 
                   "b": [20, 30, 40]})
print(df)


def print_me(x):
    print(x)





df.apply(print_me, axis=0)


print(df['a'])


print(df['b'])


def avg_3(x, y, z):
    return (x + y + z) / 3


# print(df.apply(avg_3))  # 오류


def avg_3_apply(col):
    x = col[0]
    y = col[1]
    z = col[2]
    return (x + y + z) / 3


print(df.apply(avg_3_apply))





# print(df.apply(avg_3_apply, axis=1))  # 오류


def avg_2_apply(row):
    x = row[0]
    y = row[1]
    return (x + y) / 2


print(df.apply(avg_2_apply, axis=1))








df = pd.DataFrame({'a': [10, 20, 30],
                   'b': [20, 30, 40]})
print(df)


def my_sq(x):
    return x ** 2

df['a_sq'] = df['a'].apply(my_sq)
print(df)


df['a_sq_lamb'] = df['a'].apply(lambda x: x ** 2)
print(df)








df = pd.DataFrame({"a": [10, 20, 30], 
                   "b": [20, 30, 40]})
print(df)


def avg_2(x, y):
    return (x + y) / 2


print(avg_2(df['a'], df['b']))


import numpy as np

def avg_2_mod(x, y):
    if (x == 20):
        return(np.NaN)
    else:
        return (x + y) / 2


# print(avg_2_mod(df['a'], df['b']))  # 오류


print(avg_2_mod(10, 20))


print(avg_2_mod(20, 30))








import numpy as np

avg_2_mod_vec = np.vectorize(avg_2_mod)


print(avg_2_mod_vec(df['a'], df['b']))


@np.vectorize
def v_avg_2_mod(x, y):
    if (x == 20):
        return(np.NaN)
    else:
        return (x + y) / 2

print(v_avg_2_mod(df['a'], df['b']))





import numba

@numba.vectorize
def v_avg_2_numba(x, y):
    if (int(x) == 20):
        return(np.NaN)
    else:
        return (x + y) / 2


# print(v_avg_2_numba(df['a'], df['b']))  # 오류


print(v_avg_2_numba(df['a'].values, df['b'].values))



