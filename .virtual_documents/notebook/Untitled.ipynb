import pandas as pd


pd.read_csv('../data/pew.csv')


pew = pd.read_csv('../data/pew.csv')


pew.info()


pew.sample()


pew.melt()


pew.melt('religion')


pd.melt(pew,'religion')


pd.melt(pew,'religion',var_name='uncome',value_name='count')


pew_long = pd.melt(pew,'religion')


pew_long.info()


pd.read_csv('../data/billboard.csv')


billboard = pd.read_csv('../data/billboard.csv')


billboard.columns


billboard.melt(
    ['year', 'artist', 'track', 'time', 'date.entered']
)



