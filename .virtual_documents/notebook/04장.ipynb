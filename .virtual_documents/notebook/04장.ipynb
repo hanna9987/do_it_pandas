


import seaborn as sns


sns.load_dataset("anscombe")


anscombe = sns.load_dataset("anscombe")
print(anscombe)


import matplotlib.pyplot as plt


dataset_1 = anscombe[anscombe['dataset'] == 'I']

plt.plot(dataset_1['x'], dataset_1['y'])


plt.plot(dataset_1['x'], dataset_1['y'], 'o')


dataset_2 = anscombe[anscombe['dataset'] == 'II']
dataset_3 = anscombe[anscombe['dataset'] == 'III']
dataset_4 = anscombe[anscombe['dataset'] == 'IV']


dataset_1[['x','y']].mean()


dataset_2[['x','y']].mean()


dataset_3[['x','y']].mean()


dataset_4[['x','y']].mean()


fig = plt.figure()
axes1 = fig.add_subplot(2, 2, 1)
axes2 = fig.add_subplot(2, 2, 2)
axes3 = fig.add_subplot(2, 2, 3)
axes4 = fig.add_subplot(2, 2, 4)

axes1.plot(dataset_1['x'], dataset_1['y'], 'o')
axes2.plot(dataset_2['x'], dataset_2['y'], 'o')
axes3.plot(dataset_3['x'], dataset_3['y'], 'o')
axes4.plot(dataset_4['x'], dataset_4['y'], 'o')

axes1.set_title("dataset_1")
axes2.set_title("dataset_2")
axes3.set_title("dataset_3")
axes4.set_title("dataset_4")

fig.suptitle("Anscombe Data")

fig.set_tight_layout(True)

plt.show()


# 평균 분포는 다 똑같은 데 시각화 하면 그래프 모양이 다 다름. 그래서 시각화가 중요.





import seaborn as sns
import matplotlib.pyplot as plt


sns.load_dataset('tips')


tips = sns.load_dataset('tips')


tips.info()


plt.figure()


fig = plt.figure()

axes1 = fig.add_subplot(1,1,1)

axes1.hist(data=tips,x='total_bill')
plt.show()


fig = plt.figure()

axes1 = fig.add_subplot(1,1,1)

axes1.hist(data=tips,x='total_bill',bins=5) #5등분.
plt.show()


fig = plt.figure()

axes1 = fig.add_subplot(1,1,1)
axes1.set_title('Histogram of Total Bill') #제목넣기.
axes1.hist(data=tips,x='total_bill',bins=5)
plt.show()


fig = plt.figure()

axes1 = fig.add_subplot(1,1,1)
axes1.hist(data=tips,x='total_bill',bins=5)
axes1.set_title('Histogram of Total Bill')
axes1.set_xlabel('Total Bill') #x축 이름.
axes1.set_ylabel('Frequency') #y축 이름.
plt.show()


fig = plt.figure()

axes1 = fig.add_subplot(1,1,1)
axes1.hist(data=tips,x='total_bill',bins=5,rwidth=0.8,color='plum') #rgb 색상이름 가능.
axes1.set_title('Histogram of Total Bill')
axes1.set_xlabel('Total Bill') 
axes1.set_ylabel('Frequency') 
plt.show()


plt.rc('font',family='D2Coding')
fig = plt.figure()

axes1 = fig.add_subplot(1,1,1)
axes1.hist(data=tips,x='total_bill',bins=5,rwidth=0.5,color='green')
axes1.set_title('히스토그램')
axes1.set_xlabel('Total Bill') 
axes1.set_ylabel('Frequency') 
plt.show()


plt.rcParams['font.family']
# 폰트확인 함수.
# 폰트는 각각 실행한거에 적용. 다른 파일에 적용 안됨.


import matplotlib


matplotlib.matplotlib_fname()


scatter_plot = plt.figure()
axes1 = scatter_plot.add_subplot(1,1,1)

plt.show() # show문 해야하는 이유가 for문을 돌릴때 오류발생 확률 있음.


scatter_plot = plt.figure()
axes1 = scatter_plot.add_subplot(1,1,1)
axes1.scatter('total_bill','tip',data=tips)
plt.show()


boxplot = plt.figure()
axes1 = boxplot.add_subplot(1,1,1)
axes1.boxplot()


tips['sex']=='Female'


tips[tips['sex']=='Female']


tips[tips['sex']=='Female']['tip']


x = [
    tips[tips['sex']=='Female']['tip'],
    tips[tips['sex']=='Male']['tip']
]


x


boxplot = plt.figure()
axes1 = boxplot.add_subplot(1,1,1)
axes1.boxplot(x)


boxplot = plt.figure()
axes1 = boxplot.add_subplot(1,1,1)
axes1.boxplot(x,tick_labels=['여성','남성'])
plt.show()


tips.sex.cat.categories
# 카테고리는 index값(숫자)로 인식. 
# 결과를 보면 0은 남자 1은 여자로 출력.


colors = {"Female": "#f1a340", "Male": "#998ec3"}
scatter_plot = plt.figure()
axes1 = scatter_plot.add_subplot(1,1,1)
axes1.scatter(data=tips,
              x='total_bill',
              y='tip',
              s=tips['size']**2*10, #s='size'이건 숫자가 아니니,
              c=tips['sex'].map(colors), #map은 실행,적용하라는 함수. 가장 윗줄.
              alpha=0.7 # 알파는 투명도.
)

plt.show()


tips


sns.set_context("paper")


hist,ax = plt.subplots()
sns.histplot(data=tips,x='total_bill',ax=ax)
ax.set_title('total bill histogram')
plt.show()


hist,ax = plt.subplots()
sns.histplot(data=tips,x='total_bill',ax=ax,kde=True)
ax.set_title('total bill histogram')
ax.set_ylabel('aaa')
plt.show()


rug, ax = plt.subplots()
sns.rugplot(data=tips, x='total_bill',ax=ax)
sns.histplot(data=tips, x='total_bill',ax=ax)
plt.show()


fig = sns.displot(
    data=tips,
    x='total_bill',
    kde=True,
    rug=True
)
plt.show()


fig = sns.displot(
    data=tips,
    x='total_bill',
    kde=True,
    rug=True
)

fig.suptitle('Bill')
plt.show()


count, ax = plt.subplots()
sns.countplot(data=tips,x='day',ax=ax)
plt.show()


count, ax = plt.subplots()
sns.countplot(data=tips,x='day',palette='viridis',ax=ax)
plt.show()


scatter, ax = plt.subplots()
sns.scatterplot(data=tips,x='total_bill',y='tip',ax=ax)
plt.show()


reg,ax = plt.subplots()
sns.regplot(data=tips,x='total_bill',y='tip',ax=ax)
plt.show()


reg,ax = plt.subplots()
sns.regplot(data=tips,x='total_bill',y='tip',ax=ax,scatter=False)
plt.show()


tips.info()


sns.load_dataset('iris')


iris = sns.load_dataset('iris')


iris.info()


pair_grid = sns.PairGrid(iris)
pair_grid = pair_grid.map_upper(sns.regplot)



