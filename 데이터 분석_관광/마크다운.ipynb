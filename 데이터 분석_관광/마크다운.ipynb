{
 "cells": [
  {
   "cell_type": "markdown",
   "id": "519d56e2-22df-4bb8-bcef-f5e02a935454",
   "metadata": {},
   "source": [
    "# 국가별 관광 만족도"
   ]
  },
  {
   "cell_type": "markdown",
   "id": "ed7cbf51-9fe4-4815-abc3-9f5a3384c136",
   "metadata": {},
   "source": [
    "## 목표: 국가별 관광 만족도를 분석하여 국가별 관광 수요의 성격을 파악하고, 맞춤형 콘텐츠 기획과 마케팅 방향 설정"
   ]
  },
  {
   "cell_type": "markdown",
   "id": "ecfd0205-580b-42ca-9d05-c41315057802",
   "metadata": {},
   "source": [
    "### 분석 데이터 자료"
   ]
  },
  {
   "cell_type": "markdown",
   "id": "5b39bca9-6fdf-4781-9d65-199fb66795a1",
   "metadata": {},
   "source": [
    "1. 국가별 방문 비율( 어느국가가 많이 방문하는지 아시아 전체)\n",
    "2. \n",
    "3. 국가별 "
   ]
  },
  {
   "cell_type": "markdown",
   "id": "71767bda-38d4-4296-99bc-1a88123f73c6",
   "metadata": {},
   "source": [
    "### 실행 과정"
   ]
  },
  {
   "cell_type": "markdown",
   "id": "54b67538-56ff-419f-9677-ed1f2a61d6ae",
   "metadata": {},
   "source": [
    "1. 판다스 실행\n",
    "2. 자료 가져오기\n",
    "3. "
   ]
  }
 ],
 "metadata": {
  "kernelspec": {
   "display_name": "Python [conda env:base] *",
   "language": "python",
   "name": "conda-base-py"
  },
  "language_info": {
   "codemirror_mode": {
    "name": "ipython",
    "version": 3
   },
   "file_extension": ".py",
   "mimetype": "text/x-python",
   "name": "python",
   "nbconvert_exporter": "python",
   "pygments_lexer": "ipython3",
   "version": "3.12.7"
  }
 },
 "nbformat": 4,
 "nbformat_minor": 5
}
